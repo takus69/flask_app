{
 "cells": [
  {
   "cell_type": "code",
   "execution_count": 1,
   "id": "f4dd41b7-ba87-40c4-b5ed-0cc4ba2d04bd",
   "metadata": {},
   "outputs": [],
   "source": [
    "from sqlalchemy import create_engine, String, select\n",
    "from sqlalchemy.orm import DeclarativeBase, Mapped, mapped_column, Session"
   ]
  },
  {
   "cell_type": "code",
   "execution_count": 2,
   "id": "71e04ec8-55bd-4375-a3f0-2e545eaee636",
   "metadata": {},
   "outputs": [],
   "source": [
    "class Base(DeclarativeBase):\n",
    "    pass\n",
    "\n",
    "class Test(Base):\n",
    "    __tablename__ = 'test'\n",
    "    \n",
    "    id: Mapped[int] = mapped_column(primary_key=True)\n",
    "    name: Mapped[str] = mapped_column(String(30))"
   ]
  },
  {
   "cell_type": "code",
   "execution_count": 3,
   "id": "5a3378d8-8490-4928-b984-e5f1eca2e4cb",
   "metadata": {},
   "outputs": [
    {
     "name": "stdout",
     "output_type": "stream",
     "text": [
      "2023-12-04 05:00:35,577 INFO sqlalchemy.engine.Engine BEGIN (implicit)\n",
      "2023-12-04 05:00:35,582 INFO sqlalchemy.engine.Engine PRAGMA main.table_info(\"test\")\n",
      "2023-12-04 05:00:35,582 INFO sqlalchemy.engine.Engine [raw sql] ()\n",
      "2023-12-04 05:00:35,583 INFO sqlalchemy.engine.Engine PRAGMA temp.table_info(\"test\")\n",
      "2023-12-04 05:00:35,584 INFO sqlalchemy.engine.Engine [raw sql] ()\n",
      "2023-12-04 05:00:35,585 INFO sqlalchemy.engine.Engine \n",
      "CREATE TABLE test (\n",
      "\tid INTEGER NOT NULL, \n",
      "\tname VARCHAR(30) NOT NULL, \n",
      "\tPRIMARY KEY (id)\n",
      ")\n",
      "\n",
      "\n",
      "2023-12-04 05:00:35,586 INFO sqlalchemy.engine.Engine [no key 0.00041s] ()\n",
      "2023-12-04 05:00:35,593 INFO sqlalchemy.engine.Engine COMMIT\n"
     ]
    }
   ],
   "source": [
    "engine = create_engine('sqlite:///data.db', echo=True)\n",
    "Base.metadata.create_all(engine)"
   ]
  },
  {
   "cell_type": "code",
   "execution_count": 4,
   "id": "f34df942-3662-4c4f-be29-dcf88530d8a4",
   "metadata": {},
   "outputs": [
    {
     "name": "stdout",
     "output_type": "stream",
     "text": [
      "2023-12-04 05:00:35,606 INFO sqlalchemy.engine.Engine BEGIN (implicit)\n",
      "2023-12-04 05:00:35,609 INFO sqlalchemy.engine.Engine INSERT INTO test (name) VALUES (?) RETURNING id\n",
      "2023-12-04 05:00:35,610 INFO sqlalchemy.engine.Engine [generated in 0.00010s (insertmanyvalues) 1/2 (ordered; batch not supported)] ('spongebob',)\n",
      "2023-12-04 05:00:35,611 INFO sqlalchemy.engine.Engine INSERT INTO test (name) VALUES (?) RETURNING id\n",
      "2023-12-04 05:00:35,612 INFO sqlalchemy.engine.Engine [insertmanyvalues 2/2 (ordered; batch not supported)] ('patrick',)\n",
      "2023-12-04 05:00:35,614 INFO sqlalchemy.engine.Engine COMMIT\n"
     ]
    }
   ],
   "source": [
    "with Session(engine) as session:\n",
    "    spongebob = Test(name='spongebob')\n",
    "    patrick = Test(name='patrick')\n",
    "    session.add_all([spongebob, patrick])\n",
    "    session.commit()"
   ]
  },
  {
   "cell_type": "code",
   "execution_count": 5,
   "id": "a71fd6ec-b644-4cb1-be0a-1cd2fbc9f027",
   "metadata": {},
   "outputs": [
    {
     "name": "stdout",
     "output_type": "stream",
     "text": [
      "2023-12-04 05:00:35,631 INFO sqlalchemy.engine.Engine BEGIN (implicit)\n",
      "2023-12-04 05:00:35,633 INFO sqlalchemy.engine.Engine SELECT test.id, test.name \n",
      "FROM test\n",
      "2023-12-04 05:00:35,633 INFO sqlalchemy.engine.Engine [generated in 0.00074s] ()\n",
      "1 spongebob\n",
      "2 patrick\n"
     ]
    }
   ],
   "source": [
    "session = Session(engine)\n",
    "stmt = select(Test)\n",
    "\n",
    "for t in session.scalars(stmt):\n",
    "    print(t.id, t.name)"
   ]
  },
  {
   "cell_type": "code",
   "execution_count": null,
   "id": "256e369e-22fb-4d70-bcda-9c6b65522a94",
   "metadata": {},
   "outputs": [],
   "source": []
  }
 ],
 "metadata": {
  "kernelspec": {
   "display_name": "Python 3 (ipykernel)",
   "language": "python",
   "name": "python3"
  },
  "language_info": {
   "codemirror_mode": {
    "name": "ipython",
    "version": 3
   },
   "file_extension": ".py",
   "mimetype": "text/x-python",
   "name": "python",
   "nbconvert_exporter": "python",
   "pygments_lexer": "ipython3",
   "version": "3.10.11"
  }
 },
 "nbformat": 4,
 "nbformat_minor": 5
}
